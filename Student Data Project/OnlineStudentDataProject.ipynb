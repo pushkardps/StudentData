{
 "cells": [
  {
   "cell_type": "markdown",
   "metadata": {},
   "source": [
    "# UDACITY STUDENT PROJECT\n",
    "Goal : To find the differences betweeen students who pass a project versus those who dont."
   ]
  },
  {
   "cell_type": "code",
   "execution_count": 1,
   "metadata": {},
   "outputs": [
    {
     "data": {
      "text/plain": [
       "{u'account_key': u'448',\n",
       " u'cancel_date': u'2015-01-14',\n",
       " u'days_to_cancel': u'65',\n",
       " u'is_canceled': u'True',\n",
       " u'is_udacity': u'True',\n",
       " u'join_date': u'2014-11-10',\n",
       " u'status': u'canceled'}"
      ]
     },
     "execution_count": 1,
     "metadata": {},
     "output_type": "execute_result"
    }
   ],
   "source": [
    "# Get data\n",
    "import unicodecsv\n",
    "\n",
    "enrollments = []\n",
    "f = open('enrollments.csv', 'rb')\n",
    "reader = unicodecsv.DictReader(f)\n",
    "\n",
    "for row in reader:\n",
    "    enrollments.append(row)\n",
    "    \n",
    "f.close()\n",
    "\n",
    "enrollments[0]"
   ]
  },
  {
   "cell_type": "code",
   "execution_count": 2,
   "metadata": {},
   "outputs": [
    {
     "name": "stdout",
     "output_type": "stream",
     "text": [
      "enrollments: \n",
      "{u'status': u'canceled', u'is_udacity': u'True', u'is_canceled': u'True', u'join_date': u'2014-11-10', u'account_key': u'448', u'cancel_date': u'2015-01-14', u'days_to_cancel': u'65'} \n",
      "\n",
      "daily engagement: \n",
      "{u'lessons_completed': u'0.0', u'num_courses_visited': u'1.0', u'total_minutes_visited': u'11.6793745', u'projects_completed': u'0.0', u'acct': u'0', u'utc_date': u'2015-01-09'} \n",
      "\n",
      "project submissions: \n",
      "{u'lesson_key': u'3176718735', u'processing_state': u'EVALUATED', u'account_key': u'256', u'assigned_rating': u'UNGRADED', u'completion_date': u'2015-01-16', u'creation_date': u'2015-01-14'} \n",
      "\n"
     ]
    }
   ],
   "source": [
    "# reduce number of lines by using 'WITH' loop and\n",
    "# make a function to get data\n",
    "\n",
    "import unicodecsv\n",
    "\n",
    "def importCsv(file_address):\n",
    "    with open(file_address,'rb') as f:\n",
    "        reader = unicodecsv.DictReader(f)\n",
    "        return list(reader)\n",
    "    \n",
    "enrollments = importCsv('enrollments.csv')\n",
    "daily_engagement = importCsv('daily_engagement.csv')\n",
    "project_submissions = importCsv('project_submissions.csv')\n",
    "\n",
    "print 'enrollments:' ,'\\n', enrollments[0], '\\n' \n",
    "print 'daily engagement:', '\\n',  daily_engagement[0], '\\n' \n",
    "print 'project submissions:', '\\n',  project_submissions[0], '\\n' \n",
    "\n"
   ]
  },
  {
   "cell_type": "code",
   "execution_count": 3,
   "metadata": {},
   "outputs": [
    {
     "name": "stdout",
     "output_type": "stream",
     "text": [
      "enrollments[0]: \n",
      "{u'status': u'canceled', u'is_udacity': True, u'is_canceled': True, u'join_date': datetime.datetime(2014, 11, 10, 0, 0), u'account_key': u'448', u'cancel_date': datetime.datetime(2015, 1, 14, 0, 0), u'days_to_cancel': 65} \n",
      "\n",
      "\n",
      "daily_engagement[0]: \n",
      "{u'lessons_completed': 0, u'num_courses_visited': 1, u'total_minutes_visited': 11.6793745, u'projects_completed': 0, u'acct': u'0', u'utc_date': datetime.datetime(2015, 1, 9, 0, 0)} \n",
      "\n",
      "\n",
      "project_submissions[0]: \n",
      "{u'lesson_key': u'3176718735', u'processing_state': u'EVALUATED', u'account_key': u'256', u'assigned_rating': u'UNGRADED', u'completion_date': datetime.datetime(2015, 1, 16, 0, 0), u'creation_date': datetime.datetime(2015, 1, 14, 0, 0)} \n",
      "\n",
      "\n"
     ]
    }
   ],
   "source": [
    "\n",
    "# Fix Datatypes\n",
    "\n",
    "# Before running this cell, check if it has run before else you will get an error as the dataypes\n",
    "# would already have been fixed and the code will not be able to correct the correct datatype\n",
    "\n",
    "# in csv's all the data is stored in string format\n",
    "# let's convert data to their needed datatypes so as to not get confused later on\n",
    "\n",
    "from datetime import datetime as dt\n",
    "\n",
    "# Takes a date as a string, and returns a Python datetime object. \n",
    "# If there is no date given, returns None\n",
    "def parse_date(date):\n",
    "    if date == '':\n",
    "        return None\n",
    "    else:\n",
    "        return dt.strptime(date, '%Y-%m-%d')\n",
    "    \n",
    "# Takes a string which is either an empty string or represents an integer,\n",
    "# and returns an int or None.\n",
    "def parse_maybe_int(i):\n",
    "    if i == '':\n",
    "        return None\n",
    "    else:\n",
    "        return int(i)\n",
    "\n",
    "# fix enrollments\n",
    "# need to convert - is_udacity, is_canceled , join_date, cancel_date, days_to_cancel \n",
    "for enrollment in enrollments:\n",
    "    enrollment['cancel_date'] = parse_date(enrollment['cancel_date'])\n",
    "    enrollment['days_to_cancel'] = parse_maybe_int(enrollment['days_to_cancel'])\n",
    "    enrollment['is_canceled'] = enrollment['is_canceled'] == 'True'\n",
    "    enrollment['is_udacity'] = enrollment['is_udacity'] == 'True'\n",
    "    enrollment['join_date'] = parse_date(enrollment['join_date'])\n",
    "\n",
    "print \"enrollments[0]:\",'\\n', enrollments[0],'\\n','\\n'     # print first row in the csv \n",
    "\n",
    "# fix daily_engagement\n",
    "# Clean up the data types in the engagement table\n",
    "for engagement_record in daily_engagement:\n",
    "    engagement_record['lessons_completed'] = int(float(engagement_record['lessons_completed']))\n",
    "    engagement_record['num_courses_visited'] = int(float(engagement_record['num_courses_visited']))\n",
    "    engagement_record['projects_completed'] = int(float(engagement_record['projects_completed']))\n",
    "    engagement_record['total_minutes_visited'] = float(engagement_record['total_minutes_visited'])\n",
    "    engagement_record['utc_date'] = parse_date(engagement_record['utc_date'])\n",
    "    \n",
    "print \"daily_engagement[0]:\", '\\n',daily_engagement[0],'\\n','\\n'   \n",
    "\n",
    "# fix project_submissions\n",
    "for submission in project_submissions:\n",
    "    submission['completion_date'] = parse_date(submission['completion_date'])\n",
    "    submission['creation_date'] = parse_date(submission['creation_date'])\n",
    "\n",
    "\n",
    "print \"project_submissions[0]:\", '\\n', project_submissions[0], '\\n','\\n'\n",
    "\n"
   ]
  },
  {
   "cell_type": "code",
   "execution_count": 4,
   "metadata": {
    "collapsed": true
   },
   "outputs": [],
   "source": [
    "# Investigate the data"
   ]
  },
  {
   "cell_type": "code",
   "execution_count": 5,
   "metadata": {},
   "outputs": [
    {
     "name": "stdout",
     "output_type": "stream",
     "text": [
      "enrollments: 1640\n",
      "daily_engagement: 136240\n",
      "project_submissions: 3642 \n",
      "\n"
     ]
    }
   ],
   "source": [
    "# number of rows of data in each file\n",
    "print 'enrollments:',len(enrollments)\n",
    "print 'daily_engagement:',len(daily_engagement)\n",
    "print 'project_submissions:', len(project_submissions), '\\n'\n",
    "\n",
    "# looking at rows of data in each files it looks there is a \n",
    "# need to write a function to get number of unique students"
   ]
  },
  {
   "cell_type": "code",
   "execution_count": 6,
   "metadata": {
    "collapsed": true
   },
   "outputs": [],
   "source": [
    "# first we need uniformity across data, enrollments & project submissions have 'account_key' whereas daily_engagement has 'acct'\n",
    "# so we change 'acct' in daily_engagement 'account_key' \n",
    "# WILL THROW ERROR IF RUN MORE THAN ONCE DUE TO CHANGED DATA\n",
    "for row in daily_engagement:\n",
    "    row['account_key'] = row['acct']\n",
    "    del row['acct']"
   ]
  },
  {
   "cell_type": "code",
   "execution_count": 7,
   "metadata": {},
   "outputs": [
    {
     "name": "stdout",
     "output_type": "stream",
     "text": [
      "unique_enrolled_students: 1302 \n",
      "\n",
      "unique_engagement_students: 1237 \n",
      "\n",
      "unique_project_submitters: 743 \n",
      "\n"
     ]
    }
   ],
   "source": [
    "# number of unique students in each file\n",
    "\n",
    "def get_unique_students(file):\n",
    "    unique_students = set() #set ignores duplicate values, so we can identify unique records using it\n",
    "    for row in file:\n",
    "        unique_students.add(row['account_key'])\n",
    "    return unique_students\n",
    "\n",
    "unique_enrolled_students = get_unique_students(enrollments)\n",
    "unique_engagement_students = get_unique_students(daily_engagement)\n",
    "unique_project_submitters  = get_unique_students(project_submissions)\n",
    "\n",
    "print 'unique_enrolled_students:', len(unique_enrolled_students), '\\n'\n",
    "print 'unique_engagement_students:', len(unique_engagement_students), '\\n'\n",
    "print 'unique_project_submitters:', len(unique_project_submitters), '\\n'\n",
    "\n",
    "# there seems to be some problem, unique_enrolled_students and unique_engaged_students should\n",
    "# be the same because even if the student is not engaged then the value should just be zero against it"
   ]
  },
  {
   "cell_type": "code",
   "execution_count": 8,
   "metadata": {},
   "outputs": [
    {
     "data": {
      "text/plain": [
       "65"
      ]
     },
     "execution_count": 8,
     "metadata": {},
     "output_type": "execute_result"
    }
   ],
   "source": [
    "1302-1237"
   ]
  },
  {
   "cell_type": "code",
   "execution_count": 9,
   "metadata": {},
   "outputs": [
    {
     "name": "stdout",
     "output_type": "stream",
     "text": [
      "71\n"
     ]
    },
    {
     "data": {
      "text/plain": [
       "[{u'account_key': u'1219',\n",
       "  u'cancel_date': datetime.datetime(2014, 11, 12, 0, 0),\n",
       "  u'days_to_cancel': 0,\n",
       "  u'is_canceled': True,\n",
       "  u'is_udacity': False,\n",
       "  u'join_date': datetime.datetime(2014, 11, 12, 0, 0),\n",
       "  u'status': u'canceled'},\n",
       " {u'account_key': u'871',\n",
       "  u'cancel_date': datetime.datetime(2014, 11, 13, 0, 0),\n",
       "  u'days_to_cancel': 0,\n",
       "  u'is_canceled': True,\n",
       "  u'is_udacity': False,\n",
       "  u'join_date': datetime.datetime(2014, 11, 13, 0, 0),\n",
       "  u'status': u'canceled'},\n",
       " {u'account_key': u'1218',\n",
       "  u'cancel_date': datetime.datetime(2014, 11, 15, 0, 0),\n",
       "  u'days_to_cancel': 0,\n",
       "  u'is_canceled': True,\n",
       "  u'is_udacity': False,\n",
       "  u'join_date': datetime.datetime(2014, 11, 15, 0, 0),\n",
       "  u'status': u'canceled'},\n",
       " {u'account_key': u'654',\n",
       "  u'cancel_date': datetime.datetime(2014, 12, 4, 0, 0),\n",
       "  u'days_to_cancel': 0,\n",
       "  u'is_canceled': True,\n",
       "  u'is_udacity': False,\n",
       "  u'join_date': datetime.datetime(2014, 12, 4, 0, 0),\n",
       "  u'status': u'canceled'}]"
      ]
     },
     "execution_count": 9,
     "metadata": {},
     "output_type": "execute_result"
    }
   ],
   "source": [
    "# next step is to find what data is present in enrollments but not in engagement\n",
    "num = 0\n",
    "rogue_data = []\n",
    "for row in enrollments:\n",
    "    if row['account_key'] not in unique_engagement_students:\n",
    "        rogue_data.append(row)\n",
    "        num = num + 1\n",
    "print num            # number of records present in enrollments but not engagement\n",
    "rogue_data[0:4]      # printing 4 rogue records to observe pattern, if any\n",
    "\n",
    "# Observations\n",
    "# for the recorded data, join date and cancel date are same\n",
    "# and days to cancel is zero so its the record of people who left the same day"
   ]
  },
  {
   "cell_type": "code",
   "execution_count": 10,
   "metadata": {},
   "outputs": [
    {
     "name": "stdout",
     "output_type": "stream",
     "text": [
      "{u'status': u'canceled', u'is_udacity': True, u'is_canceled': True, u'join_date': datetime.datetime(2015, 1, 10, 0, 0), u'account_key': u'1304', u'cancel_date': datetime.datetime(2015, 3, 10, 0, 0), u'days_to_cancel': 59}\n",
      "{u'status': u'canceled', u'is_udacity': True, u'is_canceled': True, u'join_date': datetime.datetime(2015, 3, 10, 0, 0), u'account_key': u'1304', u'cancel_date': datetime.datetime(2015, 6, 17, 0, 0), u'days_to_cancel': 99}\n",
      "{u'status': u'current', u'is_udacity': True, u'is_canceled': False, u'join_date': datetime.datetime(2015, 2, 25, 0, 0), u'account_key': u'1101', u'cancel_date': None, u'days_to_cancel': None}\n",
      "\n",
      "num_problem_students: 3\n"
     ]
    }
   ],
   "source": [
    "# There have to be additional problems because the difference between unique enagagement records\n",
    "# and uniqure enrollments was 65 but the data present in enrollment but not in engagement is 71\n",
    "# lets try to solve this\n",
    "\n",
    "num_problem_students = 0\n",
    "for enrollment in enrollments:\n",
    "    student = enrollment['account_key']\n",
    "    if (student not in unique_engagement_students and \n",
    "            enrollment['join_date'] != enrollment['cancel_date']):\n",
    "        print enrollment\n",
    "        num_problem_students += 1\n",
    "\n",
    "print '\\n', 'num_problem_students:',num_problem_students\n",
    "\n",
    "# in these records, days to cancel > 0 but is_udactiy = True - what does that mean\n",
    "# it means they are test data\n",
    "# test data needs to removed"
   ]
  },
  {
   "cell_type": "code",
   "execution_count": 11,
   "metadata": {},
   "outputs": [
    {
     "name": "stdout",
     "output_type": "stream",
     "text": [
      "6\n"
     ]
    }
   ],
   "source": [
    "# first find how many test ids are there\n",
    "test_data = set()\n",
    "\n",
    "for row in enrollments:\n",
    "    if row['is_udacity']:\n",
    "        test_data.add(row['account_key'])\n",
    "\n",
    "print len(test_data)"
   ]
  },
  {
   "cell_type": "code",
   "execution_count": 12,
   "metadata": {},
   "outputs": [
    {
     "name": "stdout",
     "output_type": "stream",
     "text": [
      "non_test_enrollments: 1622\n",
      "non_test_daily_engagement 135656\n",
      "non_test_project_submissions 3634\n"
     ]
    }
   ],
   "source": [
    "# now lets remove test records from all three files\n",
    "\n",
    "def remove_test_data(data):\n",
    "    non_test_data = []\n",
    "    for row in data:\n",
    "        if row['account_key'] not in test_data:\n",
    "            non_test_data.append(row)\n",
    "    return non_test_data\n",
    "\n",
    "non_test_enrollments         = remove_test_data(enrollments)\n",
    "non_test_daily_engagement    = remove_test_data(daily_engagement)\n",
    "non_test_project_submissions = remove_test_data(project_submissions)\n",
    "\n",
    "print 'non_test_enrollments:', len(non_test_enrollments)\n",
    "print 'non_test_daily_engagement', len(non_test_daily_engagement)\n",
    "print 'non_test_project_submissions', len(non_test_project_submissions)     "
   ]
  },
  {
   "cell_type": "code",
   "execution_count": 13,
   "metadata": {},
   "outputs": [
    {
     "name": "stdout",
     "output_type": "stream",
     "text": [
      "unique_non_test_enrolled_students: 1296 \n",
      "\n",
      "unique_non_test_engagement_students: 1234 \n",
      "\n",
      "unique_non_test_project_submitters: 741 \n",
      "\n",
      "62\n"
     ]
    }
   ],
   "source": [
    "# checking if there are equal unique records in each files now\n",
    "\n",
    "def get_unique_students(file):\n",
    "    unique_students = set() #set ignores duplicate values, so we can identify unique records using it\n",
    "    for row in file:\n",
    "        unique_students.add(row['account_key'])\n",
    "    return unique_students\n",
    "\n",
    "unique_non_test_enrolled_students = get_unique_students(non_test_enrollments)\n",
    "unique_non_test_engagement_students = get_unique_students(non_test_daily_engagement)\n",
    "unique_non_test_project_submitters  = get_unique_students(non_test_project_submissions)\n",
    "\n",
    "print 'unique_non_test_enrolled_students:', len(unique_non_test_enrolled_students), '\\n'\n",
    "print 'unique_non_test_engagement_students:', len(unique_non_test_engagement_students), '\\n'\n",
    "print 'unique_non_test_project_submitters:', len(unique_non_test_project_submitters), '\\n'\n",
    "\n",
    "print len(unique_non_test_enrolled_students) - len(unique_non_test_engagement_students)\n",
    "\n",
    "\n",
    "# so all test data has been removed successfully"
   ]
  },
  {
   "cell_type": "code",
   "execution_count": 14,
   "metadata": {},
   "outputs": [
    {
     "name": "stdout",
     "output_type": "stream",
     "text": [
      "paid students: 995\n"
     ]
    }
   ],
   "source": [
    "# to look at the first week of engagement of students\n",
    "# we will need to ignore trial students i.e. find PAID STUDENTS\n",
    "# i.e. not consider records of students who dropped within first week.\n",
    "# so is_canceled should be false and days to cancel > 7\n",
    "\n",
    "paid_students = {}  # create a dictionary object | {} is for dictionary, () for set, [] for list\n",
    "for row in non_test_enrollments:\n",
    "    if (not row['is_canceled'] or row['days_to_cancel'] > 7):\n",
    "        account_key     = row['account_key']\n",
    "        enrollment_date = row['join_date']\n",
    "        if (account_key not in paid_students or  enrollment_date > paid_students[account_key]):\n",
    "            paid_students[account_key] = enrollment_date\n",
    "\n",
    "print 'paid students:', len(paid_students) "
   ]
  },
  {
   "cell_type": "code",
   "execution_count": 16,
   "metadata": {},
   "outputs": [
    {
     "name": "stdout",
     "output_type": "stream",
     "text": [
      "paid_enrollments: 1293\n",
      "paid_engagement : 134549\n",
      "paid_submissions: 3618\n"
     ]
    }
   ],
   "source": [
    "# now to create a list of engagement records for paid students for the period - first week.\n",
    "\n",
    "# paid_records \n",
    "\n",
    "def remove_trials(data):\n",
    "    paid_records = []\n",
    "    for row in data:\n",
    "        if row['account_key'] in paid_students:\n",
    "            paid_records.append(row)\n",
    "    return paid_records\n",
    "\n",
    "paid_enrollments = remove_trials(non_test_enrollments)\n",
    "paid_engagement  = remove_trials(non_test_daily_engagement)\n",
    "paid_submissions = remove_trials(non_test_project_submissions)\n",
    "\n",
    "print 'paid_enrollments:', len(paid_enrollments)\n",
    "print 'paid_engagement :', len(paid_engagement)\n",
    "print 'paid_submissions:', len(paid_submissions)"
   ]
  },
  {
   "cell_type": "code",
   "execution_count": 119,
   "metadata": {
    "collapsed": true
   },
   "outputs": [],
   "source": [
    "#Number of Visits in the First Week\n",
    "for engagement_record in paid_engagement:\n",
    "    if engagement_record['num_courses_visited'] > 0:\n",
    "        engagement_record['has_visited'] = 1\n",
    "    else:\n",
    "        engagement_record['has_visited'] = 0\n",
    "        "
   ]
  },
  {
   "cell_type": "code",
   "execution_count": 120,
   "metadata": {
    "collapsed": true
   },
   "outputs": [],
   "source": [
    "# Takes a student's join date and the date of a specific engagement record,\n",
    "# and returns True if that engagement record happened within one week\n",
    "# of the student joining.\n",
    "def within_one_week(join_date, engagement_date):\n",
    "    time_delta = engagement_date - join_date\n",
    "    return time_delta.days < 7 and time_delta.days >= 0"
   ]
  },
  {
   "cell_type": "code",
   "execution_count": 121,
   "metadata": {},
   "outputs": [
    {
     "name": "stdout",
     "output_type": "stream",
     "text": [
      "134549 6919\n"
     ]
    },
    {
     "data": {
      "text/plain": [
       "6919"
      ]
     },
     "execution_count": 121,
     "metadata": {},
     "output_type": "execute_result"
    }
   ],
   "source": [
    "#####################################\n",
    "#                 7                 #\n",
    "#####################################\n",
    "\n",
    "## Create a list of rows from the engagement table including only rows where\n",
    "## the student is one of the paid students you just found, and the date is within\n",
    "## one week of the student's join date.\n",
    "num = 0\n",
    "ber = 0\n",
    "\n",
    "paid_engagement_in_first_week = []\n",
    "for engagement_record in paid_engagement:\n",
    "    account_key = engagement_record['account_key']\n",
    "    join_date = paid_students[account_key]\n",
    "    engagement_record_date = engagement_record['utc_date']\n",
    "    num = num + 1\n",
    "\n",
    "    if within_one_week(join_date, engagement_record_date):\n",
    "        paid_engagement_in_first_week.append(engagement_record)\n",
    "        ber = ber + 1\n",
    "\n",
    "print num, ber\n",
    "\n",
    "len(paid_engagement_in_first_week)"
   ]
  },
  {
   "cell_type": "code",
   "execution_count": 122,
   "metadata": {},
   "outputs": [
    {
     "data": {
      "text/plain": [
       "{'account_key': u'0',\n",
       " 'has_visited': 1,\n",
       " u'lessons_completed': 0,\n",
       " u'num_courses_visited': 1,\n",
       " u'projects_completed': 0,\n",
       " u'total_minutes_visited': 11.6793745,\n",
       " u'utc_date': datetime.datetime(2015, 1, 9, 0, 0)}"
      ]
     },
     "execution_count": 122,
     "metadata": {},
     "output_type": "execute_result"
    }
   ],
   "source": [
    "paid_engagement_in_first_week[0]"
   ]
  },
  {
   "cell_type": "code",
   "execution_count": 123,
   "metadata": {},
   "outputs": [],
   "source": [
    "# Create a dictionary of engagement grouped by student.\n",
    "# The keys are account keys, and the values are lists of engagement records.\n",
    "from collections import defaultdict\n",
    "\n",
    "def group_data(data, key_name):\n",
    "    grouped_data = defaultdict(list)\n",
    "    for data_point in data:\n",
    "        key = data_point[key_name]\n",
    "        grouped_data[key].append(data_point)\n",
    "    return grouped_data\n",
    "\n",
    "engagement_by_account = group_data(paid_engagement_in_first_week,\n",
    "                                   'account_key')"
   ]
  },
  {
   "cell_type": "code",
   "execution_count": 124,
   "metadata": {},
   "outputs": [],
   "source": [
    "# Create a dictionary with the total minutes each student spent in the classroom during the first week.\n",
    "# The keys are account keys, and the values are numbers (total minutes)\n",
    "\n",
    "def sum_grouped_items(grouped_data, field_name):\n",
    "    summed_data = {}\n",
    "    for key, data_points in grouped_data.items():\n",
    "        total = 0\n",
    "        for data_point in data_points:\n",
    "            total += data_point[field_name]\n",
    "        summed_data[key] = total\n",
    "    return summed_data\n",
    "\n",
    "total_minutes_by_account = sum_grouped_items(engagement_by_account,\n",
    "                                             'total_minutes_visited')"
   ]
  },
  {
   "cell_type": "code",
   "execution_count": 125,
   "metadata": {},
   "outputs": [
    {
     "name": "stdout",
     "output_type": "stream",
     "text": [
      "Data about minutes spent in the classroom:-\n",
      "Mean: 306.708326753\n",
      "Standard deviation: 412.996933409\n",
      "Minimum: 0.0\n",
      "Maximum: 3564.7332645 \n",
      "\n",
      "Data about lessons completed in the classroom:-\n",
      "Mean: 1.63618090452\n",
      "Standard deviation: 3.00256129983\n",
      "Minimum: 0\n",
      "Maximum: 36 \n",
      "\n"
     ]
    }
   ],
   "source": [
    "import numpy as np\n",
    "def describe_data(data):\n",
    "    print 'Mean:', np.mean(data)\n",
    "    print 'Standard deviation:', np.std(data)\n",
    "    print 'Minimum:', np.min(data)\n",
    "    print 'Maximum:', np.max(data), '\\n'\n",
    "\n",
    "# Summarize the data about minutes spent in the classroom\n",
    "print 'Data about minutes spent in the classroom:-'\n",
    "describe_data(total_minutes_by_account.values())\n",
    "\n",
    "#to find number of lessons completed in one week\n",
    "lessons_completed_by_account = sum_grouped_items(engagement_by_account,\n",
    "                                                 'lessons_completed')\n",
    "\n",
    "# Summarize the data about lessons completed in the classroom\n",
    "print 'Data about lessons completed in the classroom:-'\n",
    "describe_data(lessons_completed_by_account.values())"
   ]
  },
  {
   "cell_type": "code",
   "execution_count": 126,
   "metadata": {},
   "outputs": [
    {
     "name": "stdout",
     "output_type": "stream",
     "text": [
      "max_minutes: 3564.7332645 \n",
      "\n",
      "student: 479 \n",
      "\n",
      "{u'lessons_completed': 4, u'num_courses_visited': 4, 'has_visited': 1, u'total_minutes_visited': 850.519339666, u'projects_completed': 0, 'account_key': u'163', u'utc_date': datetime.datetime(2015, 7, 9, 0, 0)}\n",
      "{u'lessons_completed': 6, u'num_courses_visited': 6, 'has_visited': 1, u'total_minutes_visited': 872.633923334, u'projects_completed': 0, 'account_key': u'163', u'utc_date': datetime.datetime(2015, 7, 10, 0, 0)}\n",
      "{u'lessons_completed': 6, u'num_courses_visited': 2, 'has_visited': 1, u'total_minutes_visited': 777.018903666, u'projects_completed': 0, 'account_key': u'163', u'utc_date': datetime.datetime(2015, 7, 11, 0, 0)}\n",
      "{u'lessons_completed': 2, u'num_courses_visited': 1, 'has_visited': 1, u'total_minutes_visited': 294.568774, u'projects_completed': 0, 'account_key': u'163', u'utc_date': datetime.datetime(2015, 7, 12, 0, 0)}\n",
      "{u'lessons_completed': 1, u'num_courses_visited': 3, 'has_visited': 1, u'total_minutes_visited': 471.2139785, u'projects_completed': 0, 'account_key': u'163', u'utc_date': datetime.datetime(2015, 7, 13, 0, 0)}\n",
      "{u'lessons_completed': 1, u'num_courses_visited': 2, 'has_visited': 1, u'total_minutes_visited': 298.778345333, u'projects_completed': 0, 'account_key': u'163', u'utc_date': datetime.datetime(2015, 7, 14, 0, 0)}\n",
      "{u'lessons_completed': 0, u'num_courses_visited': 0, 'has_visited': 0, u'total_minutes_visited': 0.0, u'projects_completed': 0, 'account_key': u'163', u'utc_date': datetime.datetime(2015, 7, 15, 0, 0)}\n",
      "7\n"
     ]
    }
   ],
   "source": [
    "student_with_max_minutes = None\n",
    "max_minutes = 0\n",
    "\n",
    "for student, total_minutes in total_minutes_by_account.items():\n",
    "    if total_minutes > max_minutes:\n",
    "        max_minutes = total_minutes\n",
    "        student_with_max_minutes = student\n",
    "\n",
    "print 'max_minutes:', max_minutes, '\\n'\n",
    "print 'student:',student,'\\n'\n",
    "\n",
    "num = 0\n",
    "#print each engagement record for the student with max minutes\n",
    "for engagement_record in paid_engagement_in_first_week:\n",
    "    if engagement_record['account_key'] == student_with_max_minutes:\n",
    "        print engagement_record\n",
    "        num = num + 1\n",
    "print num\n",
    "# there should not be more than 7 entries here\n",
    "# also looking at the records, it looks that data with more than one week difference is definiteley getting considered\n",
    "# The problem then lies with our within_one_week function which is not checking for the case of students who cancel \n",
    "# and then re-enroll, for such students days =< 0 i.e. join date is after engagement date. This needs to be fixed in the\n",
    "# function\n",
    "# after updating the function the maximum time spent studying is 3564.7332645 , too high but not impossible"
   ]
  },
  {
   "cell_type": "code",
   "execution_count": 127,
   "metadata": {},
   "outputs": [
    {
     "name": "stdout",
     "output_type": "stream",
     "text": [
      "Mean: 2.86733668342\n",
      "Standard deviation: 2.25519800292\n",
      "Minimum: 0\n",
      "Maximum: 7 \n",
      "\n"
     ]
    }
   ],
   "source": [
    "#Number of Visits in the First Week\n",
    "\n",
    "days_visited_by_account = sum_grouped_items(engagement_by_account,\n",
    "                                            'has_visited')\n",
    "describe_data(days_visited_by_account.values())\n"
   ]
  },
  {
   "cell_type": "code",
   "execution_count": 133,
   "metadata": {},
   "outputs": [
    {
     "name": "stdout",
     "output_type": "stream",
     "text": [
      "Students who passed first project:  647\n",
      "passing_engagement: 4527\n",
      "non_passing_engagement: 2392\n"
     ]
    }
   ],
   "source": [
    "#Splitting out Passing Students\n",
    "\n",
    "subway_project_lesson_keys = ['746169184', '3176718735']\n",
    "\n",
    "pass_subway_project = set()\n",
    "\n",
    "for submission in paid_submissions:\n",
    "    project = submission['lesson_key']\n",
    "    rating = submission['assigned_rating']    \n",
    "\n",
    "    if ((project in subway_project_lesson_keys) and\n",
    "            (rating == 'PASSED' or rating == 'DISTINCTION')):\n",
    "        pass_subway_project.add(submission['account_key'])\n",
    "\n",
    "print 'Students who passed first project: ', len(pass_subway_project)\n",
    "\n",
    "passing_engagement = []\n",
    "non_passing_engagement = []\n",
    "\n",
    "for engagement_record in paid_engagement_in_first_week:\n",
    "    if engagement_record['account_key'] in pass_subway_project:\n",
    "        passing_engagement.append(engagement_record)\n",
    "    else:\n",
    "        non_passing_engagement.append(engagement_record)\n",
    "\n",
    "print 'passing_engagement:', len(passing_engagement)\n",
    "print 'non_passing_engagement:', len(non_passing_engagement)"
   ]
  },
  {
   "cell_type": "code",
   "execution_count": 136,
   "metadata": {},
   "outputs": [
    {
     "name": "stdout",
     "output_type": "stream",
     "text": [
      "non-passing students:total_minutes_visited\n",
      "Mean: 143.326474267\n",
      "Standard deviation: 269.538619011\n",
      "Minimum: 0.0\n",
      "Maximum: 1768.52274933 \n",
      "\n",
      "passing students:total_minutes_visited\n",
      "Mean: 394.586046484\n",
      "Standard deviation: 448.499519327\n",
      "Minimum: 0.0\n",
      "Maximum: 3564.7332645 \n",
      "\n",
      "non-passing students:lessons_completed\n",
      "Mean: 0.862068965517\n",
      "Standard deviation: 2.54915994183\n",
      "Minimum: 0\n",
      "Maximum: 27 \n",
      "\n",
      "passing students:lessons_completed\n",
      "Mean: 2.05255023184\n",
      "Standard deviation: 3.14222705558\n",
      "Minimum: 0\n",
      "Maximum: 36 \n",
      "\n",
      "non-passing students:has_visited\n",
      "Mean: 1.90517241379\n",
      "Standard deviation: 1.90573144136\n",
      "Minimum: 0\n",
      "Maximum: 7 \n",
      "\n",
      "passing students:has_visited\n",
      "Mean: 3.38485316847\n",
      "Standard deviation: 2.25882147092\n",
      "Minimum: 0\n",
      "Maximum: 7 \n",
      "\n"
     ]
    }
   ],
   "source": [
    "#Comparing the Two Student Groups\n",
    "passing_engagement_by_account = group_data(passing_engagement,\n",
    "                                           'account_key')\n",
    "non_passing_engagement_by_account = group_data(non_passing_engagement,\n",
    "                                               'account_key')\n",
    "\n",
    "print 'non-passing students:total_minutes_visited'\n",
    "non_passing_minutes = sum_grouped_items(\n",
    "    non_passing_engagement_by_account,\n",
    "    'total_minutes_visited'\n",
    ")\n",
    "describe_data(non_passing_minutes.values())\n",
    "\n",
    "print 'passing students:total_minutes_visited'\n",
    "passing_minutes = sum_grouped_items(\n",
    "    passing_engagement_by_account,\n",
    "    'total_minutes_visited'\n",
    ")\n",
    "describe_data(passing_minutes.values())\n",
    "\n",
    "print 'non-passing students:lessons_completed'\n",
    "non_passing_lessons = sum_grouped_items(\n",
    "    non_passing_engagement_by_account,\n",
    "    'lessons_completed'\n",
    ")\n",
    "describe_data(non_passing_lessons.values())\n",
    "\n",
    "print 'passing students:lessons_completed'\n",
    "passing_lessons = sum_grouped_items(\n",
    "    passing_engagement_by_account,\n",
    "    'lessons_completed'\n",
    ")\n",
    "describe_data(passing_lessons.values())\n",
    "\n",
    "print 'non-passing students:has_visited'\n",
    "non_passing_visits = sum_grouped_items(\n",
    "    non_passing_engagement_by_account, \n",
    "    'has_visited'\n",
    ")\n",
    "describe_data(non_passing_visits.values())\n",
    "\n",
    "print 'passing students:has_visited'\n",
    "passing_visits = sum_grouped_items(\n",
    "    passing_engagement_by_account,\n",
    "    'has_visited'\n",
    ")\n",
    "describe_data(passing_visits.values())"
   ]
  },
  {
   "cell_type": "code",
   "execution_count": 139,
   "metadata": {},
   "outputs": [
    {
     "name": "stdout",
     "output_type": "stream",
     "text": [
      "Populating the interactive namespace from numpy and matplotlib\n"
     ]
    }
   ],
   "source": [
    "#Making Histograms\n",
    "\n",
    "%pylab inline\n",
    "\n",
    "import matplotlib.pyplot as plt\n",
    "import numpy as np\n",
    "\n",
    "# Summarize the given data\n",
    "def describe_data(data):\n",
    "    print 'Mean:', np.mean(data)\n",
    "    print 'Standard deviation:', np.std(data)\n",
    "    print 'Minimum:', np.min(data)\n",
    "    print 'Maximum:', np.max(data)\n",
    "    plt.hist(data)"
   ]
  },
  {
   "cell_type": "code",
   "execution_count": 142,
   "metadata": {},
   "outputs": [
    {
     "data": {
      "text/plain": [
       "<matplotlib.text.Text at 0x1a011358>"
      ]
     },
     "execution_count": 142,
     "metadata": {},
     "output_type": "execute_result"
    },
    {
     "data": {
      "image/png": "[encoded data removed]",
      "text/plain": [
       "<matplotlib.figure.Figure at 0x19f95668>"
      ]
     },
     "metadata": {},
     "output_type": "display_data"
    }
   ],
   "source": [
    "#improving plots\n",
    "\n",
    "import seaborn as sns\n",
    "\n",
    "plt.hist(non_passing_visits.values(), bins=8)\n",
    "plt.xlabel('Number of days')\n",
    "plt.title('Distribution of classroom visits in the first week ' + \n",
    "          'for students who do not pass the subway project')\n",
    "\n",
    "plt.hist(passing_visits.values(), bins=8)\n",
    "plt.xlabel('Number of days')\n",
    "plt.title('Distribution of classroom visits in the first week ' + \n",
    "          'for students who pass the subway project')"
   ]
  }
 ],
 "metadata": {
  "kernelspec": {
   "display_name": "Python 2",
   "language": "python",
   "name": "python2"
  },
  "language_info": {
   "codemirror_mode": {
    "name": "ipython",
    "version": 2
   },
   "file_extension": ".py",
   "mimetype": "text/x-python",
   "name": "python",
   "nbconvert_exporter": "python",
   "pygments_lexer": "ipython2",
   "version": "2.7.13"
  }
 },
 "nbformat": 4,
 "nbformat_minor": 2
}
